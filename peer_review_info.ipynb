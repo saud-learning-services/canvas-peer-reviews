{
 "cells": [
  {
   "cell_type": "markdown",
   "metadata": {},
   "source": [
    "# Peer Review Info\n",
    "\n",
    "### Summary\n",
    "*Peer Review Info* is a Jupyter Notebook and Python script that works with Canvas LMS Data to create formatted .csv tables containing Canvas peer review data. Upon providing the necessary inputs, the notebook will produce three .csv files in /data in the project root directory. The data tables will give users an overview all assigned peer reviews for a given assignment - including all students who've been assigned as assessors, who they are assessing and the results of any completed assessments.\n",
    "\n",
    "---\n",
    "\n",
    "### Input\n",
    "* Canvas token *(generate through Account => Settings)*\n",
    "* Course ID *(last digits of URL when visiting course page)*\n",
    "* Assignment ID *(last digits of URL when visiting assignment page)*\n",
    "* Base URL *(Instance of Canvas being used - default: canvas.ubc.ca)*\n",
    "\n",
    "### Output\n",
    "* **users.csv:**  Complete list of users in specified course and number of assigned/completed peer reviews\n",
    "* **peer_reviews.csv:**  Specifies assessor/assessee pairings and scores (for completed assessments)\n",
    "* **items.csv:**  Completed assessments indentified by a unique id and scores for each item in rubric\n",
    "\n",
    "---\n",
    "\n",
    "*authors: @alisonmyers @markoprodanovic*\n"
   ]
  },
  {
   "cell_type": "markdown",
   "metadata": {},
   "source": [
    "---\n",
    "## IMPORT STATEMENTS\n",
    "Do not remove the following import statements. They are required for the notebook/script to run successfully."
   ]
  },
  {
   "cell_type": "code",
   "execution_count": 1,
   "metadata": {},
   "outputs": [],
   "source": [
    "import ipywidgets as widgets\n",
    "from peer_review_info import peer_review"
   ]
  },
  {
   "cell_type": "markdown",
   "metadata": {},
   "source": [
    "---\n",
    "## 1. USER INPUTS\n",
    "Run the following block of code. Prompts will appear where tokens, course ids, assignment ids and canvas instance can be specified."
   ]
  },
  {
   "cell_type": "code",
   "execution_count": 2,
   "metadata": {},
   "outputs": [
    {
     "name": "stdout",
     "output_type": "stream",
     "text": [
      "Canvas Token: 10114~Ik3BWe1Et6fHZO7Ydt9DKIKHfrwupT1RurIjsnVr7yvOojiZNZqt7k5LPrWPV2F1\n",
      "Course ID: 2591\n",
      "Assignment ID: 24885\n"
     ]
    },
    {
     "data": {
      "application/vnd.jupyter.widget-view+json": {
       "model_id": "16cbce407ab04a39ad868ed71799da52",
       "version_major": 2,
       "version_minor": 0
      },
      "text/plain": [
       "Dropdown(description='Instance:', options=('https://canvas.ubc.ca', 'https://ubc.instructure.com', 'https://ub…"
      ]
     },
     "metadata": {},
     "output_type": "display_data"
    }
   ],
   "source": [
    "token = input('Canvas Token: ')\n",
    "course = input('Course ID: ')\n",
    "asmt_id = input('Assignment ID: ')\n",
    "\n",
    "\n",
    "CANVAS_INSTANCES = ['https://canvas.ubc.ca',\n",
    "                    'https://ubc.instructure.com',\n",
    "                    'https://ubc.test.instructure.com',\n",
    "                    'https://ubcsandbox.instructure.com']\n",
    "\n",
    "url_selector = widgets.Dropdown(\n",
    "                options=CANVAS_INSTANCES,\n",
    "                value='https://canvas.ubc.ca',\n",
    "                description='Instance:',\n",
    "                disabled=False,\n",
    "            )\n",
    "\n",
    "display(url_selector)"
   ]
  },
  {
   "cell_type": "markdown",
   "metadata": {},
   "source": [
    "---\n",
    "## 2. INPUT CONFIRMATION\n",
    "Run the following block of code to see entered inputs. Confirm they are correct."
   ]
  },
  {
   "cell_type": "code",
   "execution_count": 3,
   "metadata": {},
   "outputs": [
    {
     "name": "stdout",
     "output_type": "stream",
     "text": [
      "Token: 10114~Ik3BWe1Et6fHZO7Ydt9DKIKHfrwupT1RurIjsnVr7yvOojiZNZqt7k5LPrWPV2F1\n",
      "Base URL: https://ubcsandbox.instructure.com\n",
      "Course ID: 2591\n",
      "Assignment ID: 24885\n"
     ]
    }
   ],
   "source": [
    "inputs = {\n",
    "    'token': token,\n",
    "    'url': url_selector.value,\n",
    "    'course': course,\n",
    "    'assignment_id': asmt_id\n",
    "}\n",
    "\n",
    "print('Token: ' + inputs['token'])\n",
    "print('Base URL: ' + inputs['url'])\n",
    "print('Course ID: ' + inputs['course'])\n",
    "print('Assignment ID: ' + inputs['assignment_id'])"
   ]
  },
  {
   "cell_type": "markdown",
   "metadata": {},
   "source": [
    "---\n",
    "## 3. Run\n",
    "Once user inputs have been confirmed, run the following block of code to execute the script and produce output tables.\n",
    "Any errors that occur during execution will display below."
   ]
  },
  {
   "cell_type": "code",
   "execution_count": 4,
   "metadata": {},
   "outputs": [
    {
     "name": "stdout",
     "output_type": "stream",
     "text": [
      "Tables successfully built in /data folder!\n"
     ]
    }
   ],
   "source": [
    "peer_review(inputs)"
   ]
  },
  {
   "cell_type": "code",
   "execution_count": null,
   "metadata": {},
   "outputs": [],
   "source": []
  }
 ],
 "metadata": {
  "kernelspec": {
   "display_name": "Python 3",
   "language": "python",
   "name": "python3"
  },
  "language_info": {
   "codemirror_mode": {
    "name": "ipython",
    "version": 3
   },
   "file_extension": ".py",
   "mimetype": "text/x-python",
   "name": "python",
   "nbconvert_exporter": "python",
   "pygments_lexer": "ipython3",
   "version": "3.7.4"
  }
 },
 "nbformat": 4,
 "nbformat_minor": 2
}
