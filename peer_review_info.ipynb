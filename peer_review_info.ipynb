{
 "cells": [
  {
   "cell_type": "markdown",
   "metadata": {},
   "source": [
    "# Peer Review Info\n",
    "\n",
    "### Summary\n",
    "*Peer Review Info* is a Jupyter Notebook and Python script that works with Canvas LMS Data to create formatted .csv tables containing Canvas peer review data. Upon providing the necessary inputs, the notebook will produce three .csv files in /data in the project root directory. The data tables will give users an overview all assigned peer reviews for a given assignment - including all students who've been assigned as assessors, who they are assessing and the results of any completed assessments.\n",
    "\n",
    "---\n",
    "\n",
    "### Input\n",
    "* Canvas token *(generate through Account => Settings)*\n",
    "* Course ID *(last digits of URL when visiting course page)*\n",
    "* Assignment ID *(last digits of URL when visiting assignment page)*\n",
    "* Base URL *(Instance of Canvas being used - default: canvas.ubc.ca)*\n",
    "\n",
    "### Output\n",
    "* **users.csv:**  Complete list of users in specified course and number of assigned/completed peer reviews\n",
    "* **peer_reviews.csv:**  Specifies assessor/assessee pairings and scores (for completed assessments)\n",
    "* **items.csv:**  Completed assessments indentified by a unique id and scores for each item in rubric\n",
    "* **merged.csv:**  Three tables above merged:\n",
    "\n",
    "    * users.csv[**CanvasUserID**] <=> peer_reviews.csv[**AssessorID**]\n",
    "\n",
    "    * peer_reviews.csv[**EvalID**] <=> items.csv[**EvalID**]\n",
    "\n",
    "---\n",
    "\n",
    "*authors: @alisonmyers @markoprodanovic*\n"
   ]
  },
  {
   "cell_type": "markdown",
   "metadata": {},
   "source": [
    "---\n",
    "## START HERE\n",
    "Run the block of code below. Input token, canvas instance, course number and assignment number when prompted.\n",
    "\n",
    "\n",
    "#### Canvas Instance URLS *(copy and paste from list when prompted):*\n",
    "* https://canvas.ubc.ca\n",
    "* https://ubc.instructure.com\n",
    "* https://ubc.test.instructure.com\n",
    "* https://ubcsandbox.instructure.com"
   ]
  },
  {
   "cell_type": "code",
   "execution_count": 1,
   "metadata": {},
   "outputs": [
    {
     "name": "stdout",
     "output_type": "stream",
     "text": [
      "Please enter your token: ········\n",
      "Canvas Instance URL: https://ubcsandbox.instructure.com\n",
      "\u001b[32m\n",
      "Hello, Marko Prodanovic (Instructor)!\u001b[0m\n",
      "Course Number: 2591\n",
      "Assignment Number: 24885\n",
      "\u001b[34m\n",
      "Confirmation:\u001b[0m\n",
      "USER:  Marko Prodanovic (Instructor)\n",
      "COURSE:  Alison-Sandbox\n",
      "ASSIGNMENT:  a1 - Data Assignment\n",
      "\n",
      "\n",
      "Would you like to continue using the above information?[y/n]: y\n",
      "Tables successfully built in /data folder!\n",
      "poo\n"
     ]
    }
   ],
   "source": [
    "from peer_review import get_user_inputs\n",
    "get_user_inputs()"
   ]
  },
  {
   "cell_type": "code",
   "execution_count": null,
   "metadata": {},
   "outputs": [],
   "source": []
  }
 ],
 "metadata": {
  "kernelspec": {
   "display_name": "Python 3",
   "language": "python",
   "name": "python3"
  },
  "language_info": {
   "codemirror_mode": {
    "name": "ipython",
    "version": 3
   },
   "file_extension": ".py",
   "mimetype": "text/x-python",
   "name": "python",
   "nbconvert_exporter": "python",
   "pygments_lexer": "ipython3",
   "version": "3.7.4"
  }
 },
 "nbformat": 4,
 "nbformat_minor": 2
}
