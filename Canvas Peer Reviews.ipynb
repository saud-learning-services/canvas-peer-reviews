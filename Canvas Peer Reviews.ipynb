{
 "cells": [
  {
   "cell_type": "markdown",
   "metadata": {},
   "source": [
    "# Peer Review Info\n",
    "\n",
    "## Summary\n",
    "*Peer Review Info* is a Jupyter Notebook and Python script that interacts with the Canvas LMS to create formatted .csv tables containing peer review data for an assignment. Upon providing the necessary inputs, the notebook will produce two .csv files in the \"peer_review_data\" folder (in project root directory). The data tables will give users an overview all assigned peer reviews for a given assignment - including all students who've been assigned as assessors, who they are assessing and the results of any completed assessments.\n",
    "\n",
    "### To Run (once you have read all of the instructions):\n",
    "**Kernel -> Restart & Run All**\n",
    "\n",
    "---\n",
    "\n",
    "## Input\n",
    "1. Create .env file with\n",
    "* Base URL *(Instance of Canvas being used - ex. https://ubc.instructure.com)*\n",
    "* Canvas Token *(generate through Account => Settings)*\n",
    "\n",
    "```\n",
    "API_INSTANCE = 'https://canvas.ubc.ca'\n",
    "API_TOKEN = ''\n",
    "```\n",
    "\n",
    "2. You will be prompted to enter:\n",
    "* Course ID *(last digits of URL when visiting course page)*\n",
    "* Assignment ID *(last digits of URL when visiting assignment page)*\n",
    "* To include the assignment scores if graded in addition to peer reviewed (generates additional csv) *(y/n)*\n",
    "---\n",
    "\n",
    "*authors: @markoprodanovic @alisonmyers*\n"
   ]
  },
  {
   "cell_type": "markdown",
   "metadata": {},
   "source": [
    "## 1. INITIALIZATION\n",
    "Run the following block of code to initialize python modules."
   ]
  },
  {
   "cell_type": "code",
   "execution_count": null,
   "metadata": {},
   "outputs": [],
   "source": [
    "import os\n",
    "import sys\n",
    "sys.path.insert(0, os.path.abspath('./src'));"
   ]
  },
  {
   "cell_type": "markdown",
   "metadata": {},
   "source": [
    "---\n",
    "## 2. GET PEER REVIEW DATA\n",
    "Run the block of code below. Input the course number and assignment number when prompted."
   ]
  },
  {
   "cell_type": "code",
   "execution_count": null,
   "metadata": {
    "scrolled": true
   },
   "outputs": [],
   "source": [
    "from peer_review import main\n",
    "main()"
   ]
  }
 ],
 "metadata": {
  "kernelspec": {
   "display_name": "Python 3.8.9 64-bit",
   "language": "python",
   "name": "python3"
  },
  "language_info": {
   "codemirror_mode": {
    "name": "ipython",
    "version": 3
   },
   "file_extension": ".py",
   "mimetype": "text/x-python",
   "name": "python",
   "nbconvert_exporter": "python",
   "pygments_lexer": "ipython3",
   "version": "3.8.9"
  },
  "vscode": {
   "interpreter": {
    "hash": "31f2aee4e71d21fbe5cf8b01ff0e069b9275f58929596ceb00d14d90e3e16cd6"
   }
  }
 },
 "nbformat": 4,
 "nbformat_minor": 2
}
